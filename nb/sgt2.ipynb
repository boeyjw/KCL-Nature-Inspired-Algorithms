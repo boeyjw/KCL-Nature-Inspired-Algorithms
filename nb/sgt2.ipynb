{
 "cells": [
  {
   "cell_type": "code",
   "execution_count": 1,
   "id": "7b92acf7-0d73-48ef-a2bc-5bea02b100b4",
   "metadata": {},
   "outputs": [
    {
     "name": "stderr",
     "output_type": "stream",
     "text": [
      "\u001b[32m\u001b[1m  Activating\u001b[22m\u001b[39m project at `~/study/7CCSMBIM_Algorithms`\n"
     ]
    }
   ],
   "source": [
    "include(\"../src/generic.jl\");\n",
    "include(\"../src/prim_mst.jl\");\n",
    "include(\"../src/kruskal_mst.jl\");\n",
    "using Pkg; Pkg.activate(\"..\");\n",
    "using Graphs, GraphPlot, Compose, MetaGraphsNext;"
   ]
  },
  {
   "cell_type": "code",
   "execution_count": 2,
   "id": "62d8436f",
   "metadata": {},
   "outputs": [
    {
     "data": {
      "text/plain": [
       "6×6 Matrix{Int64}:\n",
       "  0  11  14  15  10  10\n",
       " 11   0   9  13  14   9\n",
       " 14   9   0  11  13   6\n",
       " 15  13  11   0   8  10\n",
       " 10  14  13   8   0   9\n",
       " 10   9   6  10   9   0"
      ]
     },
     "metadata": {},
     "output_type": "display_data"
    }
   ],
   "source": [
    "mg = MetaGraph(Graph(), EdgeData=Int, weight_function=identity, default_weight=0);\n",
    "# vertices\n",
    "mg[:Arlington] = nothing;\n",
    "mg[:Medford] = nothing;\n",
    "mg[:Everett] = nothing;\n",
    "mg[:Cambridge] = nothing;\n",
    "mg[:Belmont] = nothing;\n",
    "mg[:Somerville] = nothing;\n",
    "# edges\n",
    "mg[:Arlington, :Medford] = 11;\n",
    "mg[:Arlington, :Everett] = 14;\n",
    "mg[:Arlington, :Cambridge] = 15;\n",
    "mg[:Arlington, :Belmont] = 10;\n",
    "mg[:Arlington, :Somerville] = 10;\n",
    "mg[:Belmont, :Medford] = 14;\n",
    "mg[:Belmont, :Cambridge] = 8;\n",
    "mg[:Belmont, :Everett] = 13;\n",
    "mg[:Belmont, :Somerville] = 9;\n",
    "mg[:Cambridge, :Medford] = 13;\n",
    "mg[:Cambridge, :Everett] = 11;\n",
    "mg[:Cambridge, :Somerville] = 10;\n",
    "mg[:Everett, :Medford] = 9;\n",
    "mg[:Everett, :Somerville] = 6;\n",
    "mg[:Medford, :Somerville] = 9;\n",
    "collect(weights(mg))"
   ]
  },
  {
   "attachments": {},
   "cell_type": "markdown",
   "id": "cee243bd",
   "metadata": {},
   "source": [
    "# Q1"
   ]
  },
  {
   "cell_type": "code",
   "execution_count": 3,
   "id": "88417fe8-9197-42c9-bba1-33db0f104d70",
   "metadata": {},
   "outputs": [
    {
     "data": {
      "text/plain": [
       "5×5 Matrix{Int64}:\n",
       " 0  2  4  2  8\n",
       " 2  0  2  6  6\n",
       " 4  2  0  9  6\n",
       " 2  6  9  0  2\n",
       " 8  6  6  2  0"
      ]
     },
     "metadata": {},
     "output_type": "display_data"
    }
   ],
   "source": [
    "numV = 5;\n",
    "g = MetaGraph(Graph(), EdgeData=Int, graph_data=\"TSP\", weight_function=identity, default_weight=0);\n",
    "# vertices\n",
    "g[:A] = nothing;\n",
    "g[:B] = nothing;\n",
    "g[:C] = nothing;\n",
    "g[:D] = nothing;\n",
    "g[:E] = nothing;\n",
    "# edges\n",
    "g[:A, :B] = 2;\n",
    "g[:A, :C] = 4;\n",
    "g[:A, :D] = 2;\n",
    "g[:A, :E] = 8;\n",
    "g[:B, :C] = 2;\n",
    "g[:B, :D] = 6;\n",
    "g[:B, :E] = 6;\n",
    "g[:C, :D] = 9;\n",
    "g[:C, :E] = 6;\n",
    "g[:D, :E] = 2;\n",
    "\n",
    "collect(weights(g))"
   ]
  },
  {
   "cell_type": "code",
   "execution_count": 4,
   "id": "1a3928b0-1c98-4fe8-8f21-768ae4880729",
   "metadata": {},
   "outputs": [],
   "source": [
    "g_prim = sgt_prim_wrapper(g);\n",
    "g_kruskal = sgt_kruskal_mst(g);"
   ]
  },
  {
   "cell_type": "code",
   "execution_count": 5,
   "id": "7746ea75",
   "metadata": {},
   "outputs": [
    {
     "data": {
      "text/plain": [
       "4-element Vector{Graphs.SimpleGraphs.SimpleEdge{Int64}}:\n",
       " Edge 1 => 2\n",
       " Edge 1 => 4\n",
       " Edge 2 => 3\n",
       " Edge 4 => 5"
      ]
     },
     "metadata": {},
     "output_type": "display_data"
    }
   ],
   "source": [
    "collect(edges(g_kruskal[1]))"
   ]
  },
  {
   "attachments": {},
   "cell_type": "markdown",
   "id": "686d9d56",
   "metadata": {},
   "source": [
    "# Q2"
   ]
  },
  {
   "cell_type": "code",
   "execution_count": 6,
   "id": "62d8436f",
   "metadata": {},
   "outputs": [
    {
     "data": {
      "text/plain": [
       "6×6 Matrix{Int64}:\n",
       "  0  11  14  15  10  10\n",
       " 11   0   9  13  14   9\n",
       " 14   9   0  11  13   6\n",
       " 15  13  11   0   8  10\n",
       " 10  14  13   8   0   9\n",
       " 10   9   6  10   9   0"
      ]
     },
     "metadata": {},
     "output_type": "display_data"
    }
   ],
   "source": [
    "mg = MetaGraph(Graph(), EdgeData=Int, weight_function=identity, default_weight=0);\n",
    "# vertices\n",
    "mg[:Arlington] = nothing;\n",
    "mg[:Medford] = nothing;\n",
    "mg[:Everett] = nothing;\n",
    "mg[:Cambridge] = nothing;\n",
    "mg[:Belmont] = nothing;\n",
    "mg[:Somerville] = nothing;\n",
    "# edges\n",
    "mg[:Arlington, :Medford] = 11;\n",
    "mg[:Arlington, :Everett] = 14;\n",
    "mg[:Arlington, :Cambridge] = 15;\n",
    "mg[:Arlington, :Belmont] = 10;\n",
    "mg[:Arlington, :Somerville] = 10;\n",
    "mg[:Belmont, :Medford] = 14;\n",
    "mg[:Belmont, :Cambridge] = 8;\n",
    "mg[:Belmont, :Everett] = 13;\n",
    "mg[:Belmont, :Somerville] = 9;\n",
    "mg[:Cambridge, :Medford] = 13;\n",
    "mg[:Cambridge, :Everett] = 11;\n",
    "mg[:Cambridge, :Somerville] = 10;\n",
    "mg[:Everett, :Medford] = 9;\n",
    "mg[:Everett, :Somerville] = 6;\n",
    "mg[:Medford, :Somerville] = 9;\n",
    "collect(weights(mg))"
   ]
  },
  {
   "cell_type": "code",
   "execution_count": 7,
   "id": "b62409da",
   "metadata": {},
   "outputs": [],
   "source": [
    "cost, mst = sgt_prim_mst(mg, :Arlington);\n",
    "odd_degree = [];\n",
    "for v = vertices(mst)\n",
    "    nb = neighbors(mst, v);\n",
    "    if length(nb) % 2 > 0\n",
    "        push!(odd_degree, v);\n",
    "    end\n",
    "end"
   ]
  },
  {
   "cell_type": "code",
   "execution_count": 8,
   "id": "5ed98be7",
   "metadata": {},
   "outputs": [
    {
     "name": "stdout",
     "output_type": "stream",
     "text": [
      "Arlington => Belmont(10)\n",
      "\n",
      "Medford => Everett(9)\n",
      "\n",
      "Everett => Somerville(6)\n",
      "\n",
      "Cambridge => Belmont(8)\n",
      "\n",
      "Cambridge => Somerville(10)\n",
      "\n"
     ]
    }
   ],
   "source": [
    "code_to_label_edges(mst)"
   ]
  },
  {
   "attachments": {},
   "cell_type": "markdown",
   "id": "44b46d9f",
   "metadata": {},
   "source": [
    "# Q3"
   ]
  },
  {
   "cell_type": "code",
   "execution_count": 9,
   "id": "ee065c7b",
   "metadata": {},
   "outputs": [],
   "source": [
    "gw = [\n",
    "    0 14 4 10 20;\n",
    "    14 0 7 8 7;\n",
    "    4 5 0 7 16;\n",
    "    11 7 9 0 2;\n",
    "    18 7 17 4 0;\n",
    "];"
   ]
  },
  {
   "cell_type": "code",
   "execution_count": 10,
   "id": "e4785243",
   "metadata": {},
   "outputs": [],
   "source": []
  }
 ],
 "metadata": {
  "kernelspec": {
   "display_name": "Julia 1.8.5",
   "language": "julia",
   "name": "julia-1.8"
  },
  "language_info": {
   "file_extension": ".jl",
   "mimetype": "application/julia",
   "name": "julia",
   "version": "1.8.5"
  }
 },
 "nbformat": 4,
 "nbformat_minor": 5
}
