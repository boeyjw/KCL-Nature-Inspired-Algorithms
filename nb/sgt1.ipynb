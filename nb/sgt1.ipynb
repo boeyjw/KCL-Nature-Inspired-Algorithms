{
 "cells": [
  {
   "cell_type": "code",
   "execution_count": 1,
   "id": "577ebc06-9343-4c8f-977d-fb9c5a41bf7b",
   "metadata": {},
   "outputs": [
    {
     "name": "stderr",
     "output_type": "stream",
     "text": [
      "\u001b[32m\u001b[1m  Activating\u001b[22m\u001b[39m project at `~/study/7CCSMBIM_Algorithms`\n"
     ]
    }
   ],
   "source": [
    "using Pkg; Pkg.activate(\"..\")\n",
    "using Graphs, GraphPlot, Compose, MetaGraphsNext"
   ]
  },
  {
   "cell_type": "code",
   "execution_count": 2,
   "id": "399df836-6d75-4614-97c0-a14735411b98",
   "metadata": {},
   "outputs": [
    {
     "data": {
      "text/plain": [
       "8×8 Matrix{Int64}:\n",
       " -1   3  -1   5  -1  -1  -1  -1\n",
       "  3  -1   5  -1   4   8  -1  -1\n",
       " -1   5  -1   1   2  -1   4   7\n",
       "  5  -1   1  -1  -1  -1   2   6\n",
       " -1   4   2  -1  -1  10  -1   3\n",
       " -1   8  -1  -1  10  -1  -1  -1\n",
       " -1  -1   4   2  -1  -1  -1   2\n",
       " -1  -1   7   6   3  -1   2  -1"
      ]
     },
     "execution_count": 2,
     "metadata": {},
     "output_type": "execute_result"
    }
   ],
   "source": [
    "g = MetaGraph(Graph(), EdgeData = Int, graph_data = \"TSP\", weight_function = identity, default_weight = -1);\n",
    "# graph vertices\n",
    "g[:A] = nothing;\n",
    "g[:B] = nothing;\n",
    "g[:C] = nothing;\n",
    "g[:D] = nothing;\n",
    "g[:E] = nothing;\n",
    "g[:F] = nothing;\n",
    "g[:G] = nothing;\n",
    "g[:H] = nothing;\n",
    "# graph edges\n",
    "g[:A, :B] = 3;\n",
    "g[:A, :D] = 5;\n",
    "g[:B, :C] = 5;\n",
    "g[:B, :E] = 4;\n",
    "g[:B, :F] = 8;\n",
    "g[:C, :D] = 1;\n",
    "g[:C, :G] = 4;\n",
    "g[:C, :H] = 7;\n",
    "g[:C, :E] = 2;\n",
    "g[:D, :G] = 2;\n",
    "g[:D, :H] = 6;\n",
    "g[:E, :F] = 10;\n",
    "g[:E, :H] = 3;\n",
    "g[:G, :H] = 2;\n",
    "collect(weights(g))"
   ]
  },
  {
   "cell_type": "markdown",
   "id": "498908b0-eec1-48eb-947e-78068c38f55c",
   "metadata": {},
   "source": [
    "# Prim Algorithm"
   ]
  },
  {
   "cell_type": "code",
   "execution_count": 181,
   "id": "c7ae28df-b057-42e3-bdf3-34ddc8451119",
   "metadata": {},
   "outputs": [
    {
     "data": {
      "text/plain": [
       "3"
      ]
     },
     "execution_count": 181,
     "metadata": {},
     "output_type": "execute_result"
    }
   ],
   "source": [
    "argmin([5, 5, 1])"
   ]
  },
  {
   "cell_type": "code",
   "execution_count": 180,
   "id": "18026d65-4255-471a-a44c-c67eca66b6c4",
   "metadata": {},
   "outputs": [
    {
     "data": {
      "text/plain": [
       "((1, 2), 1)"
      ]
     },
     "execution_count": 180,
     "metadata": {},
     "output_type": "execute_result"
    }
   ],
   "source": [
    "findmin([(1, 2), (5, 5)])"
   ]
  },
  {
   "cell_type": "code",
   "execution_count": 202,
   "id": "19bf6452-4a1c-490c-a8d4-7c371feae045",
   "metadata": {},
   "outputs": [
    {
     "data": {
      "text/plain": [
       "prim_mst_algo (generic function with 1 method)"
      ]
     },
     "execution_count": 202,
     "metadata": {},
     "output_type": "execute_result"
    }
   ],
   "source": [
    "function prim_mst_algo(g, initial_vertex)\n",
    "    mst = MetaGraph(Graph(), EdgeData=Int, graph_data=\"MST\", weight_function=identity, default_weight=0);\n",
    "    for v = vertices(g)\n",
    "        mst[label_for(g, v)] = g[label_for(g, v)];\n",
    "    end\n",
    "    in_mst = [];\n",
    "    seen = [code_for(g, initial_vertex)];\n",
    "    \n",
    "    while !issetequal(vertices(g), in_mst)\n",
    "        nb = [n for n = neighbors(g, seen[end]) if !(n in seen)];\n",
    "        if isempty(nb)\n",
    "            throw(\"No solution!\");\n",
    "        end\n",
    "        min_weight = nb[argmin([g[label_for(g, seen[end]), label_for(g, n)] for n in nb])];\n",
    "        mst[label_for(g, seen[end]), label_for(g, min_weight)] = g[label_for(g, seen[end]), label_for(g, min_weight)];\n",
    "        push!(in_mst, seen[end], min_weight);\n",
    "        push!(seen, min_weight);\n",
    "    end\n",
    "    return mst, sum(weights(mst)) / 2\n",
    "end"
   ]
  },
  {
   "cell_type": "code",
   "execution_count": 203,
   "id": "3bb8f8c6-628e-4eb2-a325-1bb31b106ded",
   "metadata": {},
   "outputs": [
    {
     "data": {
      "text/plain": [
       "(Meta graph based on a SimpleGraph{Int64}(7, [[2, 4], [1, 6], [4, 5], [1, 3], [3, 8], [2], [8], [5, 7]]) with vertex labels of type Symbol, vertex metadata of type Nothing, edge metadata of type Int64, graph metadata given by \"MST\", and default weight 0, 24.0)"
      ]
     },
     "execution_count": 203,
     "metadata": {},
     "output_type": "execute_result"
    }
   ],
   "source": [
    "mst = nothing;\n",
    "cost = nothing;\n",
    "for i = collect(vertices(g))\n",
    "    try    \n",
    "        mst, cost = prim_mst_algo(g, label_for(g, i));\n",
    "    catch\n",
    "        nothing;\n",
    "    end\n",
    "end\n",
    "mst, cost"
   ]
  },
  {
   "cell_type": "code",
   "execution_count": 205,
   "id": "8a633d6c-351e-4d39-8d23-4a942a016cef",
   "metadata": {},
   "outputs": [
    {
     "data": {
      "text/plain": [
       "7-element Vector{Graphs.SimpleGraphs.SimpleEdge{Int64}}:\n",
       " Edge 1 => 2\n",
       " Edge 1 => 4\n",
       " Edge 2 => 6\n",
       " Edge 3 => 4\n",
       " Edge 3 => 5\n",
       " Edge 5 => 8\n",
       " Edge 7 => 8"
      ]
     },
     "execution_count": 205,
     "metadata": {},
     "output_type": "execute_result"
    }
   ],
   "source": [
    "collect(edges(mst))"
   ]
  },
  {
   "cell_type": "code",
   "execution_count": 208,
   "id": "47ed0c00-206d-4885-9150-94a90ebf119a",
   "metadata": {},
   "outputs": [
    {
     "name": "stdout",
     "output_type": "stream",
     "text": [
      "1: A\n",
      "2: B\n",
      "3: C\n",
      "4: D\n",
      "5: E\n",
      "6: F\n",
      "7: G\n",
      "8: H\n"
     ]
    }
   ],
   "source": [
    "for i = vertices(mst)\n",
    "    println(i, \": \", label_for(mst, i))\n",
    "end"
   ]
  },
  {
   "cell_type": "code",
   "execution_count": 163,
   "id": "511a0c6e-7eb4-4c83-8a66-737dce52d182",
   "metadata": {},
   "outputs": [
    {
     "data": {
      "text/plain": [
       "7-element Vector{Graphs.SimpleGraphs.SimpleEdge{Int64}}:\n",
       " Edge 1 => 2\n",
       " Edge 5 => 3\n",
       " Edge 3 => 4\n",
       " Edge 2 => 5\n",
       " Edge 2 => 6\n",
       " Edge 4 => 7\n",
       " Edge 7 => 8"
      ]
     },
     "execution_count": 163,
     "metadata": {},
     "output_type": "execute_result"
    }
   ],
   "source": [
    "a = prim_mst(g, weights(g))"
   ]
  },
  {
   "cell_type": "markdown",
   "id": "344146f4-67a6-493d-9011-46634356b289",
   "metadata": {},
   "source": [
    "# Kruskal Algorithm"
   ]
  },
  {
   "cell_type": "code",
   "execution_count": 209,
   "id": "06f3e323-b306-4f8a-ae14-f8bd38f8aa5e",
   "metadata": {},
   "outputs": [
    {
     "data": {
      "text/plain": [
       "kruskal_mst (generic function with 1 method)"
      ]
     },
     "execution_count": 209,
     "metadata": {},
     "output_type": "execute_result"
    }
   ],
   "source": [
    "function kruskal_mst(g)\n",
    "    wm = sort([(g[label_for(g, e.src), label_for(g, e.dst)], e.src, e.dst) for e in edges(g)]);\n",
    "    mst = MetaGraph(Graph(), EdgeData=Int, graph_data=\"MST\", weight_function=identity, default_weight=0);\n",
    "    for v in vertices(g)\n",
    "        mst[label_for(g, v)] = g[label_for(g, v)];\n",
    "    end\n",
    "    \n",
    "    for (w, src, dst) = wm\n",
    "        if ne(mst) == nv(mst)-1\n",
    "            break\n",
    "        end\n",
    "        src_lb = label_for(g, src);\n",
    "        dst_lb = label_for(g, dst);\n",
    "        mst[src_lb, dst_lb] = g[src_lb, dst_lb];\n",
    "        if is_cyclic(mst)\n",
    "            rem_edge!(mst, src, dst);\n",
    "        end\n",
    "    end\n",
    "    return mst, sum(weights(mst)) / 2\n",
    "end"
   ]
  },
  {
   "cell_type": "code",
   "execution_count": 210,
   "id": "3482a9e3-ff9e-42e8-8880-004ce8d00304",
   "metadata": {},
   "outputs": [
    {
     "data": {
      "text/plain": [
       "(Meta graph based on a SimpleGraph{Int64}(7, [[2], [1, 5, 6], [4, 5], [3, 7], [2, 3], [2], [4, 8], [7]]) with vertex labels of type Symbol, vertex metadata of type Nothing, edge metadata of type Int64, graph metadata given by \"MST\", and default weight 0, 22.0)"
      ]
     },
     "execution_count": 210,
     "metadata": {},
     "output_type": "execute_result"
    }
   ],
   "source": [
    "mst, cost = kruskal_mst(g)"
   ]
  },
  {
   "cell_type": "code",
   "execution_count": 211,
   "id": "90c1bbe1-7182-49af-9dce-395e1bf8ce12",
   "metadata": {},
   "outputs": [
    {
     "data": {
      "text/plain": [
       "7-element Vector{Graphs.SimpleGraphs.SimpleEdge{Int64}}:\n",
       " Edge 1 => 2\n",
       " Edge 2 => 5\n",
       " Edge 2 => 6\n",
       " Edge 3 => 4\n",
       " Edge 3 => 5\n",
       " Edge 4 => 7\n",
       " Edge 7 => 8"
      ]
     },
     "execution_count": 211,
     "metadata": {},
     "output_type": "execute_result"
    }
   ],
   "source": [
    "collect(edges(mst))"
   ]
  },
  {
   "cell_type": "code",
   "execution_count": 212,
   "id": "288d7edf-7e0e-4197-9c90-23c8ad48835d",
   "metadata": {},
   "outputs": [
    {
     "name": "stdout",
     "output_type": "stream",
     "text": [
      "1: A\n",
      "2: B\n",
      "3: C\n",
      "4: D\n",
      "5: E\n",
      "6: F\n",
      "7: G\n",
      "8: H\n"
     ]
    }
   ],
   "source": [
    "for v = vertices(mst)\n",
    "    println(v, \": \", label_for(mst, v))\n",
    "end"
   ]
  },
  {
   "cell_type": "code",
   "execution_count": null,
   "id": "0eeec9c4-3040-4662-9b2d-37c5cfa4cfe8",
   "metadata": {},
   "outputs": [],
   "source": []
  }
 ],
 "metadata": {
  "kernelspec": {
   "display_name": "Julia 1.8.5",
   "language": "julia",
   "name": "julia-1.8"
  },
  "language_info": {
   "file_extension": ".jl",
   "mimetype": "application/julia",
   "name": "julia",
   "version": "1.8.5"
  }
 },
 "nbformat": 4,
 "nbformat_minor": 5
}
